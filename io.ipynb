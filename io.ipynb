import pandas as pd
import numpy as np
import matplotlib.pyplot as plt
import seaborn as sns
import os
from sklearn.linear_model import LinearRegression
from sklearn.cluster import KMeans
from sklearn.decomposition import PCA
from sklearn.preprocessing import StandardScaler
import statsmodels.api as sm
from scipy import stats
from google.colab import drive

# --- Constantes e Configurações ---
DRIVE_MOUNT_PATH = "/content/drive"
GRAPHPATH = os.path.join(DRIVE_MOUNT_PATH, "MyDrive", "graficos")
SUMMARYPATH = os.path.join(DRIVE_MOUNT_PATH, "MyDrive", "sumarios")
DEFAULT_PALETTE = "viridis"
FIGSIZE = (9, 5)
DATASET_URL = "https://docs.google.com/spreadsheets/d/1xL3ytpRR1rGqqQDHGKyUfQL6XfILmMpaDXOHYRYhU_A/export?format=csv"

# Configuração de estilo (FUNDO ESCURO)
sns.set(style="darkgrid")
plt.rcParams.update({
    'figure.facecolor': '#282c34',
    'axes.facecolor': '#282c34',
    'axes.edgecolor': 'white',
    'axes.labelcolor': 'cyan',
    'xtick.color': 'white',
    'ytick.color': 'white',
    'text.color': 'white',
    'grid.color': 'gray',
    'grid.linestyle': '--',
    'legend.facecolor': '#282c34',
    'legend.edgecolor': 'white',
    'figure.titlesize': 16,
    'axes.titlesize': 12,
    'axes.labelsize': 10,
})

# --- Funções Auxiliares ---

def save_fig(filename):
    """Salva a figura no Drive."""
    filepath = os.path.join(GRAPHPATH, filename)
    os.makedirs(os.path.dirname(filepath), exist_ok=True)
    plt.savefig(filepath, dpi=300, bbox_inches='tight')
    plt.close()

def create_figure():
    return plt.figure(figsize=FIGSIZE)

def load_data_from_url(url):
    """Carrega dados de uma URL CSV."""
    try:
        df = pd.read_csv(url)
        print("Dados carregados com sucesso da URL.")
        return df
    except Exception as e:
        print(f"Erro ao carregar dados da URL: {e}")
        return None

# --- Funções de Visualização (Aprimoradas) ---

def generate_boxplot(df, x, y, title="", filename="", hue=None):
    """Gera um boxplot e salva."""
    create_figure()
    if hue:
        sns.boxplot(x=x, y=y, data=df, palette=DEFAULT_PALETTE, hue=hue)
    else:
        sns.boxplot(x=x, y=y, data=df, palette=DEFAULT_PALETTE)
    plt.title(title)
    plt.xticks(rotation=45, ha="right")
    save_fig(filename)

def generate_histogram(df, column, title="", filename="", bins=20, kde=True):
    """Gera um histograma e salva."""
    create_figure()
    sns.histplot(df[column], kde=kde, bins=bins, color='skyblue')
    plt.title(title)
    save_fig(filename)

def generate_scatterplot(df, x, y, title="", filename="", hue=None, style=None):
    """Gera um scatterplot e salva."""
    create_figure()
    sns.scatterplot(x=x, y=y, data=df, alpha=0.7, hue=hue, style=style, palette=DEFAULT_PALETTE)
    plt.title(title)
    save_fig(filename)

def generate_heatmap(df, title="", filename="", annot=True):
    """Gera um heatmap de correlação e salva."""
    create_figure()
    corr = df.corr()
    sns.heatmap(corr, annot=annot, cmap=DEFAULT_PALETTE, fmt=".2f")
    plt.title(title)
    save_fig(filename)

def generate_violinplot(df, x, y, title="", filename="", hue=None, split=False):
    """Gera um violin plot e salva."""
    create_figure()
    sns.violinplot(x=x, y=y, data=df, palette=DEFAULT_PALETTE, hue=hue, split=split)
    plt.title(title)
    plt.xticks(rotation=45, ha="right")
    save_fig(filename)

def generate_pairplot(df, title="", filename="", hue=None):
    """Gera um pairplot (demorado para grandes datasets)."""
    sns.pairplot(df, hue=hue, palette=DEFAULT_PALETTE)
    plt.suptitle(title, y=1.02)
    save_fig(filename)

def generate_pca_plot(df, title="", filename="", hue=None):
    """Gera um gráfico de PCA e salva."""
    df_numeric = df.select_dtypes(include=np.number)
    df_numeric = df_numeric.dropna().replace([np.inf, -np.inf], np.nan).dropna()
    if df_numeric.empty:
        print("Erro: Sem dados numéricos válidos para PCA.")
        return
    scaler = StandardScaler()
    scaled_data = scaler.fit_transform(df_numeric)
    pca = PCA(n_components=2)
    principal_components = pca.fit_transform(scaled_data)
    pca_df = pd.DataFrame(data=principal_components, columns=['PC1', 'PC2'])
    if hue and hue in df.columns:
        pca_df = pca_df.set_index(df_numeric.index)
        pca_df[hue] = df[hue].loc[pca_df.index]
    create_figure()
    sns.scatterplot(x='PC1', y='PC2', data=pca_df, hue=hue, palette=DEFAULT_PALETTE)
    plt.title(title)
    save_fig(filename)

# --- Funções de Análise Estatística ---

def perform_paired_t_test(df, pre_col, post_col, print_results=True):
    """Realiza um teste t pareado."""
    if pre_col not in df.columns or post_col not in df.columns:
        print(f"Erro: Colunas '{pre_col}' ou '{post_col}' não encontradas.")
        return None, None, None
    if not pd.api.types.is_numeric_dtype(df[pre_col]) or not pd.api.types.is_numeric_dtype(df[post_col]):
        print(f"Erro: Colunas '{pre_col}' e '{post_col}' devem ser numéricas.")
        return None, None, None
    df_clean = df.dropna(subset=[pre_col, post_col])
    if df_clean.empty or df_clean[pre_col].var() == 0 or df_clean[post_col].var() == 0:
        print("Erro: Sem dados ou variância zero para o teste t.")
        return None, None, None
    t_stat, p_value = stats.ttest_rel(df_clean[pre_col], df_clean[post_col])
    d = t_stat / np.sqrt(len(df_clean))
    if print_results:
        print(f"Teste t pareado: t={t_stat:.3f}, p={p_value:.3f}, d de Cohen: {d:.2f}")
    return t_stat, p_value, d

def perform_linear_regression(df, x_cols, y_col, print_results=True):
    """Regressão linear múltipla."""
    if y_col not in df.columns:
        print(f"Erro: Coluna dependente '{y_col}' não encontrada.")
        return None
    for col in x_cols:
        if col not in df.columns or not pd.api.types.is_numeric_dtype(df[col]):
            print(f"Erro: Coluna independente '{col}' inválida ou não numérica.")
            return None
    if not pd.api.types.is_numeric_dtype(df[y_col]):
        print(f"Erro: Coluna dependente '{y_col}' não é numérica.")
        return None
    df_clean = df.dropna(subset=x_cols + [y_col])
    if df_clean.empty:
        print("Erro: Sem dados para a regressão.")
        return None
    X = df_clean[x_cols]
    y = df_clean[y_col]
    X = sm.add_constant(X)
    try:
        model = sm.OLS(y, X).fit()
        if print_results:
            print(model.summary())
        return model
    except Exception as e:
        print(f"Erro durante a regressão: {e}")
        return None

def perform_clustering(df, n_clusters, features, filename="kmeans_plot.png"):
    """Realiza clustering K-Means e visualiza."""
    df_cluster = df[features].dropna()
    if df_cluster.empty:
        print("Erro: Sem dados para clustering.")
        return None
    scaler = StandardScaler()
    scaled_features = scaler.fit_transform(df_cluster)
    kmeans = KMeans(n_clusters=n_clusters, random_state=42, n_init=10)
    clusters = kmeans.fit_predict(scaled_features)
    df_cluster['Cluster'] = clusters
    if len(features) > 2:
        pca = PCA(n_components=2)
        reduced_features = pca.fit_transform(scaled_features)
        df_cluster['PCA1'] = reduced_features[:, 0]
        df_cluster['PCA2'] = reduced_features[:, 1]
        x_col, y_col = 'PCA1', 'PCA2'
    else:
        x_col, y_col = features[0], features[1]
    create_figure()
    sns.scatterplot(x=x_col, y=y_col, hue='Cluster', data=df_cluster, palette=DEFAULT_PALETTE)
    plt.title("K-Means Clustering")
    save_fig(filename)
    return clusters

# --- Função Principal (main) ---
if __name__ == "__main__":
    drive.mount(DRIVE_MOUNT_PATH, force_remount=True)
    os.makedirs(GRAPHPATH, exist_ok=True)
    os.makedirs(SUMMARYPATH, exist_ok=True)

    # --- CARREGAR DADOS (da URL) ---
    df = load_data_from_url(DATASET_URL)
    if df is None:
        print("Não foi possível carregar os dados. Encerrando.")
        exit()  # Encerra o programa se não houver dados

    # --- Análise e Visualizações ---

    # 1. Teste t e boxplot (Autoconsciência)
    perform_paired_t_test(df, "PreTeste_Autoconsciencia", "PosTeste_Autoconsciencia")
    generate_boxplot(df, "PreTeste_Autoconsciencia", "PosTeste_Autoconsciencia",
                     title="Comparação Pré/Pós-Teste (Autoconsciência)",
                     filename="1_boxplot_prepos_autoconsciencia.png")

    # 2. Histograma (Melhora na Autoconsciência)
    generate_histogram(df, "Melhora_Autoconsciencia",
                       title="Distribuição da Melhora na Autoconsciência",
                       filename="2_hist_melhora.png")

    # 3. Scatterplot (Interação com Agente vs. Melhora, colorido por Idade)
    generate_scatterplot(df, "Freq_Interacao_Agente", "Melhora_Autoconsciencia",
                         title="Interação com Agente vs. Melhora na Autoconsciência",
                         filename="3_scatter_interacao_melhora.png", hue="Idade")

    # 4. Heatmap de Correlação
    generate_heatmap(df, title="Heatmap de Correlação", filename="4_heatmap.png")

    # 5. Violin Plot (Avaliação do Professor por Gênero - usando as colunas one-hot)
    df['Genero'] = 'Feminino'
    df.loc[df['Genero_Masculino'] == 1, 'Genero'] = 'Masculino'
    df.loc[df['Genero_Outro'] == 1, 'Genero'] = 'Outro'
    generate_violinplot(df, "Genero", "Avaliacao_Professor",
                        title="Avaliação do Professor por Gênero",
                        filename="5_violin_avaliacao_genero.png", split=False)

    # 6. Regressão Linear (Melhora na Autoconsciência)
    features = ["Freq_Interacao_Agente", "Avaliacao_Professor", "Idade", "Genero_Masculino", "Genero_Outro"]
    model = perform_linear_regression(df, features, "Melhora_Autoconsciencia")

    # 7. Gráfico de Resíduos da Regressão (se o modelo existir)
    if model:
        create_figure()
        plt.scatter(model.fittedvalues, model.resid)
        plt.xlabel("Valores Ajustados")
        plt.ylabel("Resíduos")
        plt.title("Gráfico de Resíduos da Regressão")
        plt.axhline(y=0, color='r', linestyle='--')
        save_fig("7_residual_plot.png")

    # 8. K-Means Clustering (Agrupamento de alunos)
    cluster_features = ["Freq_Interacao_Agente", "Avaliacao_Professor", "Melhora_Autoconsciencia"]
    perform_clustering(df, 3, cluster_features, filename="8_kmeans_plot.png")

    # 9. PCA Plot (Redução de Dimensionalidade)
    generate_pca_plot(df, title="PCA Plot", filename="9_pca_plot.png", hue="Idade")

    # 10. Pairplot (limitado a algumas variáveis)
    pairplot_vars = ["Melhora_Autoconsciencia", "Freq_Interacao_Agente", "Avaliacao_Professor"]
    generate_pairplot(df[pairplot_vars], title="Pairplot (Variáveis Selecionadas)", filename="10_pairplot.png")

    # 11. Boxplot (Avaliação do Professor por Idade)
    generate_boxplot(df, "Idade", "Avaliacao_Professor",
                     title="Avaliação do Professor por Idade",
                     filename="11_boxplot_idade_avaliacao.png")

    # 12. Scatterplot (Idade vs. Melhora, colorido por Avaliação)
    generate_scatterplot(df, "Idade", "Melhora_Autoconsciencia",
                         title="Idade vs. Melhora na Autoconsciência",
                         filename="12_scatter_idade_melhora.png", hue="Avaliacao_Professor")

    print("Análise ASE com Dados da URL Completa!")
